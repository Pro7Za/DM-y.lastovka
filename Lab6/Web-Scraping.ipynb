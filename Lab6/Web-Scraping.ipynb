{
 "cells": [
  {
   "cell_type": "markdown",
   "metadata": {},
   "source": [
    "#  Скрапінг-технології"
   ]
  },
  {
   "cell_type": "markdown",
   "metadata": {},
   "source": [
    "## ТЕОРЕТИЧНА ЧАСТИНА"
   ]
  },
  {
   "cell_type": "markdown",
   "metadata": {},
   "source": [
    "Вміст веб-сайтів(документів) - основне джерело видобутку даних.\n",
    "\n",
    "Вилучення корисних даних з веб-сторінки називається [веб-скрапінгом](https://uk.wikipedia.org/wiki/Web_scraping)\n",
    "\n",
    "_Технологія_ що покладена в основу веб-скрапінга - __HTML-парсінг__\n",
    "\n",
    "Основні парсери HTML:\n",
    "\n",
    "- [Beautiful Soup](https://en.wikipedia.org/wiki/Beautiful_Soup_(HTML_parser)) - загальноцілова бібліотека Python для парсінгу _статичних_ сайтів.\n",
    "- [Selenium](https://ru.wikipedia.org/wiki/Selenium) - бібліотека з можливістю парсінга _динамічних_ веб-сайтів.\n",
    "- [Scrapy](https://ru.wikipedia.org/wiki/Scrapy) - облегшена бібліотека для парсінгу нескладних статичних сайтів."
   ]
  },
  {
   "cell_type": "markdown",
   "metadata": {},
   "source": [
    "### Технологія веб-скрапінгу включає наступні етапи:\n",
    "\n",
    "1. Визначення об'єктів, які підлягають видобутку\n",
    "2. Вилучення html-сторінки з інтернет-ресурса\n",
    "3. Визначення внутрішньої структури html-документа та стратегії вилученя даних\n",
    "4. Застосування веб-скрапера для вилучення та накопичення даних в необхідні структури"
   ]
  },
  {
   "cell_type": "markdown",
   "metadata": {},
   "source": [
    "## ІНДИВІДУАЛЬНЕ ЗАВДАННЯ"
   ]
  },
  {
   "cell_type": "markdown",
   "metadata": {},
   "source": [
    "З [головної сторінки](https://knute.edu.ua/blog/read/?pid=1038&uk) сайту КНТЕУ вилучити інформацію про факультети, кафедри та посилання на відповідні сторінки та представити результат в наступному вигляді:\n",
    "\n",
    "Назва факультету __<Закріпленій за вамі факультет>__\n",
    "\n",
    "№   | Назва кафедри | URL кафедри\n",
    ":--:|:--------|:--------\n",
    "1 |  <_назва 1> | <url 1>\n",
    "2 |  <_назва 1> | <url 1>\n",
    "3 |  <_назва 1> | <url 1>\n",
    "...| ... |...\n"
   ]
  },
  {
   "cell_type": "code",
   "execution_count": 1,
   "metadata": {
    "run_control": {
     "marked": true
    }
   },
   "outputs": [],
   "source": [
    "# імпортувати бібліотеку Requests\n",
    "import requests\n"
   ]
  },
  {
   "cell_type": "code",
   "execution_count": 2,
   "metadata": {
    "run_control": {
     "marked": true
    }
   },
   "outputs": [
    {
     "data": {
      "text/plain": [
       "'ISO-8859-1'"
      ]
     },
     "execution_count": 2,
     "metadata": {},
     "output_type": "execute_result"
    }
   ],
   "source": [
    "# зчитати головну сторінку та виправити кодування (якщо необхідно)\n",
    "dteu_url = \"https://knute.edu.ua/blog/read/?pid=1038&uk\"\n",
    "main_page = requests.get(dteu_url)\n",
    "main_page.encoding"
   ]
  },
  {
   "cell_type": "code",
   "execution_count": 3,
   "metadata": {},
   "outputs": [
    {
     "data": {
      "text/plain": [
       "'<!DOCTYPE html>\\n<html ng-app=\"siteApp\">\\n  <head>\\n<meta http-equiv=\"Content-Type\" content=\"text/html; charset=utf-8\" /><meta name=\"viewport\" content=\"width=500px, initial-scale=0.7\" /><meta property=\"og:image\" content=\"/image/MTg0/8d0919156730f0275274fbf039c2a855.png\" /><meta property=\"og:title\" content=\"Розклад занять, екзаменаційної сесії, атестації здобувачів вищої освіти\" /><meta property=\"og:description\" content=\"Адреси навчальних корпусів: А - вул. Кіото 19 (головний корпус) Б - вул. Кіото 19 (бібліотечний корпус) В - вул. Кіото 19 (Конгрес-центр) Г - вул. Мілютенка 8 Д - вул. Кіото 21 Е - вул. Мілютенка 4 Л - вул. Кіото 23 М - вул. Чигоріна 57 Н - вул. Чигоріна 57а Р - вул. Раєвського 36 РОЗКЛАД ДЗВІНКІВ РОЗКЛАД ЗАНЯТЬ Для ознайомлення з розкладом занять перейдіть за посиланням: https://mia1.knute.edu.ua Розклад роботи секцій з дисципліни &quot;Фізичне виховання&quot; ГРАФІКИ ОСВІТНЬОГО ПРОЦЕСУ ДЕННА ФОРМА НАВЧАННЯ ЗАОЧНА ФОРМА НАВЧАННЯ ЛІКВІДАЦІЯ АКАДЕМІЧНОЇ ЗАБОРГОВАНОСТІ ФІТ Ф'"
      ]
     },
     "execution_count": 3,
     "metadata": {},
     "output_type": "execute_result"
    }
   ],
   "source": [
    "main_page.encoding = \"utf-8\"\n",
    "\n",
    "main_page.text[:1000]"
   ]
  },
  {
   "cell_type": "markdown",
   "metadata": {},
   "source": [
    "#### за допомогою [Chrome DevTools](https://htmlacademy.ru/blog/boost/tools/chrome-devtools-1) проаналізувати структуру сторінки, визначити об'єкти що потребують вилучення та розробити стратегію скрапінга"
   ]
  },
  {
   "cell_type": "code",
   "execution_count": 522,
   "metadata": {
    "run_control": {
     "marked": true
    }
   },
   "outputs": [],
   "source": [
    "# імпортувати html-парсер бібліотеки  BeautifulSoup\n",
    "from bs4 import BeautifulSoup as bs"
   ]
  },
  {
   "cell_type": "code",
   "execution_count": 523,
   "metadata": {
    "run_control": {
     "marked": true
    }
   },
   "outputs": [],
   "source": [
    "# розпарсити сторінку `main_page`\n",
    "main_page_parsed = bs('<html><p class=\"title small\">ФІТ</p></html>')"
   ]
  },
  {
   "cell_type": "code",
   "execution_count": 524,
   "metadata": {},
   "outputs": [
    {
     "name": "stdout",
     "output_type": "stream",
     "text": [
      "<html>\n",
      " <body>\n",
      "  <p class=\"title small\">\n",
      "   ФІТ\n",
      "  </p>\n",
      " </body>\n",
      "</html>\n",
      "['title', 'small']\n"
     ]
    }
   ],
   "source": [
    "# ВЛАСТИВОСТІ:\n",
    "# ім'я \n",
    "print(main_page_parsed.prettify())\n",
    "# атрибут\n",
    "print(main_page_parsed.p['class'])"
   ]
  },
  {
   "cell_type": "code",
   "execution_count": 525,
   "metadata": {},
   "outputs": [
    {
     "data": {
      "text/plain": [
       "'ФІТ'"
      ]
     },
     "execution_count": 525,
     "metadata": {},
     "output_type": "execute_result"
    }
   ],
   "source": [
    "main_page_parsed.string"
   ]
  },
  {
   "cell_type": "code",
   "execution_count": 526,
   "metadata": {},
   "outputs": [
    {
     "data": {
      "text/plain": [
       "<html><body><p class=\"title small\">ФІТ</p></body></html>"
      ]
     },
     "execution_count": 526,
     "metadata": {},
     "output_type": "execute_result"
    }
   ],
   "source": [
    "main_page_parsed\n"
   ]
  },
  {
   "cell_type": "markdown",
   "metadata": {},
   "source": [
    "#### застосувати вибрану стратегію для вилученя назв кафедр та їх url"
   ]
  },
  {
   "cell_type": "code",
   "execution_count": 527,
   "metadata": {
    "run_control": {
     "marked": true
    }
   },
   "outputs": [],
   "source": [
    "main_page_text = main_page.text"
   ]
  },
  {
   "cell_type": "code",
   "execution_count": 528,
   "metadata": {
    "run_control": {
     "marked": true
    }
   },
   "outputs": [],
   "source": [
    "main_page_parsed = bs(main_page_text)\n",
    "soup = main_page_parsed"
   ]
  },
  {
   "cell_type": "code",
   "execution_count": 529,
   "metadata": {},
   "outputs": [],
   "source": [
    "fac_list = soup.find_all(\"ul\", class_=\"nav\")[0]      \\\n",
    "                .find_all(\"li\", class_=\"dropdown\")[1] \\\n",
    "                .find_all(\"a\") \n",
    "                #.find(\"span\", class_=\"prev-link\")"
   ]
  },
  {
   "cell_type": "code",
   "execution_count": 614,
   "metadata": {
    "scrolled": true
   },
   "outputs": [],
   "source": [
    "names = [fac.string for fac in fac_list if \n",
    "       \"Факультет інформаційних технологій\" in fac.string or \"Кафедра інженерії \" in fac.string \\\n",
    "        or \"Кафедра цифрової \" in fac.string \\\n",
    "        or \"Кафедра комп'ютерних наук \" in fac.string \\\n",
    "        or \"Кафедра вищої \" in fac.string]"
   ]
  },
  {
   "cell_type": "code",
   "execution_count": 615,
   "metadata": {
    "scrolled": true
   },
   "outputs": [],
   "source": [
    "data = []\n",
    "links = soup.find_all(\"ul\", class_=\"nav\")[0].find_all(\"li\", class_=\"dropdown\")[1].find_all(\"li\", class_=\"\")[21].find_all(\"a\")\n",
    "ttt = soup.find_all(\"ul\", class_=\"nav\")[0].find_all(\"li\", class_=\"dropdown\")[1].find_all(\"a\", class_=\"att-menu-item\")\n",
    "\n",
    "\n",
    "#for link in links:\n",
    "   # if \"Факультет інформаційних технологій\" in link:\n",
    "    #n = link.find(\"a\")\n",
    "    #k = \"https://knute.edu.ua/\" + link.find(\"a\",class_=\"att-menu-item\").get('href')\n",
    "    #l = link.find('a',attrs={'href': re.compile(\"/blog/read?\")})\n",
    "    #ls = \"https://knute.edu.ua/\" + l.get('href')\n",
    "      #  print(\"https://knute.edu.ua\" + link.get('href'))\n",
    "      #  print(link.text)\n",
    "    #else:\n",
    "     #   print(link.text)"
   ]
  },
  {
   "cell_type": "code",
   "execution_count": 616,
   "metadata": {
    "scrolled": true
   },
   "outputs": [
    {
     "data": {
      "text/plain": [
       "['Факультет інформаційних технологій',\n",
       " 'Кафедра інженерії програмного забезпечення та кібербезпеки',\n",
       " 'Кафедра цифрової економіки та системного аналізу',\n",
       " \"Кафедра комп'ютерних наук та інформаційних систем\",\n",
       " 'Кафедра вищої та прикладної математики']"
      ]
     },
     "execution_count": 616,
     "metadata": {},
     "output_type": "execute_result"
    }
   ],
   "source": [
    "names #[18:23]"
   ]
  },
  {
   "cell_type": "code",
   "execution_count": 617,
   "metadata": {
    "scrolled": true
   },
   "outputs": [
    {
     "name": "stdout",
     "output_type": "stream",
     "text": [
      "https://knute.edu.ua/blog/read?n=Department Software Engineering and Information Systems&uk\n",
      "https://knute.edu.ua/blog/read?n=Department of Economic Cybernetics and Information Systems&uk\n",
      "https://knute.edu.ua/blog/read?n=informaciynikh tekhnologiy u mizhnarodniy torgivli&uk\n",
      "https://knute.edu.ua/blog/read?n=Department of Higher and Applied Mathematics&uk\n"
     ]
    }
   ],
   "source": [
    "#data[42:47]\n",
    "y = \"URL кафедри\"\n",
    "names.append(y)\n",
    "ttt[18:22]\n",
    "for t in ttt[18:22]:\n",
    "     q = \"https://knute.edu.ua\" + t.get('href')\n",
    "     print(q)\n",
    "     names.append(q)"
   ]
  },
  {
   "cell_type": "code",
   "execution_count": 618,
   "metadata": {},
   "outputs": [
    {
     "data": {
      "text/plain": [
       "['Факультет інформаційних технологій',\n",
       " 'Кафедра інженерії програмного забезпечення та кібербезпеки',\n",
       " 'Кафедра цифрової економіки та системного аналізу',\n",
       " \"Кафедра комп'ютерних наук та інформаційних систем\",\n",
       " 'Кафедра вищої та прикладної математики',\n",
       " 'URL кафедри',\n",
       " 'https://knute.edu.ua/blog/read?n=Department Software Engineering and Information Systems&uk',\n",
       " 'https://knute.edu.ua/blog/read?n=Department of Economic Cybernetics and Information Systems&uk',\n",
       " 'https://knute.edu.ua/blog/read?n=informaciynikh tekhnologiy u mizhnarodniy torgivli&uk',\n",
       " 'https://knute.edu.ua/blog/read?n=Department of Higher and Applied Mathematics&uk']"
      ]
     },
     "execution_count": 618,
     "metadata": {},
     "output_type": "execute_result"
    }
   ],
   "source": [
    "names"
   ]
  },
  {
   "cell_type": "code",
   "execution_count": 619,
   "metadata": {},
   "outputs": [],
   "source": [
    "def make_table_dict(names):\n",
    "    '''функція будує словник де ключ - назва факультету,\n",
    "    значення - список кафедр'''\n",
    "    \n",
    "    table_dict = {}\n",
    "    for name in names:\n",
    "        if \"Факультет інформаційних технологій\" in name or \"URL\" in name:\n",
    "            table_dict[name] = []\n",
    "            current_fac_name = name\n",
    "        elif \"Кафедра\" in name: \n",
    "            table_dict[current_fac_name].append(name) \n",
    "        elif \"https://knute.edu.ua/blog/read?n\" in name:\n",
    "            \n",
    "            table_dict[current_fac_name].append(name) \n",
    "\n",
    "            #table_dict[current_fac_name].append(data)\n",
    "    return table_dict"
   ]
  },
  {
   "cell_type": "code",
   "execution_count": 620,
   "metadata": {},
   "outputs": [],
   "source": [
    "table_dict = make_table_dict(names)"
   ]
  },
  {
   "cell_type": "code",
   "execution_count": 621,
   "metadata": {
    "scrolled": false
   },
   "outputs": [
    {
     "data": {
      "text/plain": [
       "{'Факультет інформаційних технологій': ['Кафедра інженерії програмного забезпечення та кібербезпеки',\n",
       "  'Кафедра цифрової економіки та системного аналізу',\n",
       "  \"Кафедра комп'ютерних наук та інформаційних систем\",\n",
       "  'Кафедра вищої та прикладної математики'],\n",
       " 'URL кафедри': ['https://knute.edu.ua/blog/read?n=Department Software Engineering and Information Systems&uk',\n",
       "  'https://knute.edu.ua/blog/read?n=Department of Economic Cybernetics and Information Systems&uk',\n",
       "  'https://knute.edu.ua/blog/read?n=informaciynikh tekhnologiy u mizhnarodniy torgivli&uk',\n",
       "  'https://knute.edu.ua/blog/read?n=Department of Higher and Applied Mathematics&uk']}"
      ]
     },
     "execution_count": 621,
     "metadata": {},
     "output_type": "execute_result"
    }
   ],
   "source": [
    "table_dict"
   ]
  },
  {
   "cell_type": "code",
   "execution_count": 630,
   "metadata": {},
   "outputs": [],
   "source": [
    "def make_table(table_dict):\n",
    "    ''' функція будує датафрейм відповідно до вимог задачі'''\n",
    "    import pandas as pd\n",
    "    return pd.DataFrame.from_dict(table_dict, orient=\"index\").transpose()"
   ]
  },
  {
   "cell_type": "code",
   "execution_count": 631,
   "metadata": {},
   "outputs": [
    {
     "data": {
      "text/html": [
       "<div>\n",
       "<style scoped>\n",
       "    .dataframe tbody tr th:only-of-type {\n",
       "        vertical-align: middle;\n",
       "    }\n",
       "\n",
       "    .dataframe tbody tr th {\n",
       "        vertical-align: top;\n",
       "    }\n",
       "\n",
       "    .dataframe thead th {\n",
       "        text-align: right;\n",
       "    }\n",
       "</style>\n",
       "<table border=\"1\" class=\"dataframe\">\n",
       "  <thead>\n",
       "    <tr style=\"text-align: right;\">\n",
       "      <th></th>\n",
       "      <th>Факультет інформаційних технологій</th>\n",
       "      <th>URL кафедри</th>\n",
       "    </tr>\n",
       "  </thead>\n",
       "  <tbody>\n",
       "    <tr>\n",
       "      <th>0</th>\n",
       "      <td>Кафедра інженерії програмного забезпечення та ...</td>\n",
       "      <td>https://knute.edu.ua/blog/read?n=Department So...</td>\n",
       "    </tr>\n",
       "    <tr>\n",
       "      <th>1</th>\n",
       "      <td>Кафедра цифрової економіки та системного аналізу</td>\n",
       "      <td>https://knute.edu.ua/blog/read?n=Department of...</td>\n",
       "    </tr>\n",
       "    <tr>\n",
       "      <th>2</th>\n",
       "      <td>Кафедра комп'ютерних наук та інформаційних систем</td>\n",
       "      <td>https://knute.edu.ua/blog/read?n=informaciynik...</td>\n",
       "    </tr>\n",
       "    <tr>\n",
       "      <th>3</th>\n",
       "      <td>Кафедра вищої та прикладної математики</td>\n",
       "      <td>https://knute.edu.ua/blog/read?n=Department of...</td>\n",
       "    </tr>\n",
       "  </tbody>\n",
       "</table>\n",
       "</div>"
      ],
      "text/plain": [
       "                  Факультет інформаційних технологій  \\\n",
       "0  Кафедра інженерії програмного забезпечення та ...   \n",
       "1   Кафедра цифрової економіки та системного аналізу   \n",
       "2  Кафедра комп'ютерних наук та інформаційних систем   \n",
       "3             Кафедра вищої та прикладної математики   \n",
       "\n",
       "                                         URL кафедри  \n",
       "0  https://knute.edu.ua/blog/read?n=Department So...  \n",
       "1  https://knute.edu.ua/blog/read?n=Department of...  \n",
       "2  https://knute.edu.ua/blog/read?n=informaciynik...  \n",
       "3  https://knute.edu.ua/blog/read?n=Department of...  "
      ]
     },
     "execution_count": 631,
     "metadata": {},
     "output_type": "execute_result"
    }
   ],
   "source": [
    "make_table(table_dict)"
   ]
  },
  {
   "cell_type": "code",
   "execution_count": null,
   "metadata": {},
   "outputs": [],
   "source": []
  }
 ],
 "metadata": {
  "kernelspec": {
   "display_name": "Python 3 (ipykernel)",
   "language": "python",
   "name": "python3"
  },
  "language_info": {
   "codemirror_mode": {
    "name": "ipython",
    "version": 3
   },
   "file_extension": ".py",
   "mimetype": "text/x-python",
   "name": "python",
   "nbconvert_exporter": "python",
   "pygments_lexer": "ipython3",
   "version": "3.9.12"
  },
  "varInspector": {
   "cols": {
    "lenName": 16,
    "lenType": 16,
    "lenVar": 40
   },
   "kernels_config": {
    "python": {
     "delete_cmd_postfix": "",
     "delete_cmd_prefix": "del ",
     "library": "var_list.py",
     "varRefreshCmd": "print(var_dic_list())"
    },
    "r": {
     "delete_cmd_postfix": ") ",
     "delete_cmd_prefix": "rm(",
     "library": "var_list.r",
     "varRefreshCmd": "cat(var_dic_list()) "
    }
   },
   "types_to_exclude": [
    "module",
    "function",
    "builtin_function_or_method",
    "instance",
    "_Feature"
   ],
   "window_display": false
  }
 },
 "nbformat": 4,
 "nbformat_minor": 2
}
